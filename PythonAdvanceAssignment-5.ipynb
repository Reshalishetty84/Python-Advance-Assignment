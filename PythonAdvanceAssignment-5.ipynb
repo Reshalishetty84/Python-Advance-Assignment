{
 "cells": [
  {
   "cell_type": "markdown",
   "id": "bdb1432b",
   "metadata": {},
   "source": [
    "1.What is the meaning of multiple inheritance?\n",
    "\n",
    "Multiple Inheritance is a feature that allows a class to inherit attributes and methods from multiple parent classes. This means that a child class can inherit from two or more parent classes, which can be useful in situations where a child class needs to inherit behaviors from different sources.Example\n",
    "\n",
    "class Parent1:\n",
    "\n",
    "    def method1(self):\n",
    "        print(\"Method 1 from Parent 1\")\n",
    "\n",
    "class Parent2:\n",
    "\n",
    "    def method2(self):\n",
    "        print(\"Method 2 from Parent 2\")\n",
    "\n",
    "class Child(Parent1, Parent2):\n",
    "\n",
    "    pass\n",
    "\n",
    "c = Child()\n",
    "\n",
    "c.method1()   # Output: Method 1 from Parent 1\n",
    "\n",
    "c.method2()   # Output: Method 2 from Parent 2\n",
    "\n",
    "The Child class is inheriting from both Parent1 and Parent2 classes, which means that it has access to both method1 and method2 defined in those parent classes."
   ]
  },
  {
   "cell_type": "markdown",
   "id": "93bea1bb",
   "metadata": {},
   "source": [
    "2.What is the concept of delegation?\n",
    "\n",
    "Delegation is a programming pattern in which an object forwards a method call or attribute access to another object. This means that when an object receives a method call or attribute access, it can delegate the call or access to another object to perform the actual behavior.Delegation can be useful in situations where an object wants to provide access to a behavior or attribute that is implemented by another object. Instead of implementing the behavior or attribute itself, the object can delegate the behavior or attribute to the other object, which can simplify the implementation and improve code reuse.\n",
    "\n",
    "class Other:\n",
    "\n",
    "    def method(self):\n",
    "        print(\"method called from Other object\")\n",
    "\n",
    "class Delegate:\n",
    "\n",
    "    def __init__(self):\n",
    "        self.other = Other()\n",
    "\n",
    "    def method(self):\n",
    "        self.other.method()\n",
    "\n",
    "d = Delegate()\n",
    "\n",
    "d.method()  # Output: method called from Other object\n",
    "\n",
    "The Delegate class is delegating the method behavior to the Other object. When method is called on Delegate, it simply calls method on the Other object, which actually performs the behavior."
   ]
  },
  {
   "cell_type": "markdown",
   "id": "5039e827",
   "metadata": {},
   "source": [
    "3.What is the concept of composition?\n",
    "\n",
    "Composition is a programming pattern in Python (and other object-oriented programming languages) where objects are created by combining other objects. In composition, objects are composed of one or more other objects, and these objects work together to provide the functionality of the composed object.Composition is often used when objects have a \"has-a\" relationship with each other, rather than an \"is-a\" relationship. For example, a car \"has-a\" engine, but a car \"is-a\" vehicle. In such cases, composition can be used to create objects that have complex behaviors that are made up of simpler behaviors provided by other objects.Example\n",
    "\n",
    "class Engine:\n",
    "\n",
    "    def start(self):\n",
    "        print(\"Engine started\")\n",
    "\n",
    "class Car:\n",
    "\n",
    "    def __init__(self):\n",
    "        self.engine = Engine()\n",
    "\n",
    "    def start(self):\n",
    "        self.engine.start()\n",
    "        print(\"Car started\")\n",
    "\n",
    "c = Car()\n",
    "\n",
    "c.start()   # Output: Engine started, Car started\n",
    "\n",
    "The Car class is composed of an Engine object. When the start method is called on the Car object, it calls the start method on the Engine object to start the engine, and then prints \"Car started\" to indicate that the car has started."
   ]
  },
  {
   "cell_type": "markdown",
   "id": "69abe660",
   "metadata": {},
   "source": [
    "4.What are bound methods and how do we use them?\n",
    "\n",
    "A bound method is a method that is bound to an instance of a class. When you call a bound method, the instance that it is bound to is automatically passed as the first argument to the method (which is usually named \"self\").Example\n",
    "\n",
    "class MyClass:\n",
    "\n",
    "    def my_method(self, x):\n",
    "        print(f\"Instance {self} called my_method with argument {x}\")\n",
    "\n",
    "my_instance = MyClass()\n",
    "\n",
    "To call the my_method method on my_instance:\n",
    "my_instance.my_method(42)\n",
    "\n",
    "This would print Instance <__main__.MyClass object at 0x7f92f15a0970> called my_method with argument 42, where the value 0x7f92f15a0970 is the memory address of the instance.Note that the method was called on the instance my_instance, and the instance was automatically passed as the first argument to the method (which is why the output includes the instance's memory address).Bound methods are used extensively in object-oriented programming in Python. They allow you to define behavior that is specific to an instance of a class, and make it easy to reuse code across multiple instances. By binding methods to instances, you can also modify the state of the instance, which is essential for building useful objects in Python."
   ]
  },
  {
   "cell_type": "markdown",
   "id": "dc735fff",
   "metadata": {},
   "source": [
    "5.What is the purpose of pseudoprivate attributes?\n",
    "\n",
    "Pseudoprivate attributes are attributes that are named with double underscores at the beginning and end of the name, like __example__. These attributes are also sometimes called \"name mangling\" because Python internally renames them to include the class name in the attribute name to make them harder to access from outside the class.The purpose of pseudoprivate attributes is to provide a way for classes to define internal data that should not be accessed or modified directly from outside the class. By using pseudoprivate attributes, you can ensure that other code does not accidentally modify or access this internal data, which could cause unexpected behavior and bugs.Example\n",
    "\n",
    "class MyClass:\n",
    "\n",
    "    def __init__(self):\n",
    "        self.__private_attr = \"private\"\n",
    "        self.__semi_private__ = \"semi-private\"\n",
    "        \n",
    "    def do_something(self):\n",
    "        print(self.__private_attr)\n",
    "        print(self.__semi_private__)\n",
    "\n",
    "\n",
    "In this example, __private_attr is a pseudoprivate attribute that is not intended to be accessed or modified from outside the class, while __semi_private__ is a pseudoprivate attribute that is intended to be accessed and modified only by subclasses or by code that is closely related to the class."
   ]
  },
  {
   "cell_type": "code",
   "execution_count": null,
   "id": "f9bac0d5",
   "metadata": {},
   "outputs": [],
   "source": []
  }
 ],
 "metadata": {
  "kernelspec": {
   "display_name": "Python 3 (ipykernel)",
   "language": "python",
   "name": "python3"
  },
  "language_info": {
   "codemirror_mode": {
    "name": "ipython",
    "version": 3
   },
   "file_extension": ".py",
   "mimetype": "text/x-python",
   "name": "python",
   "nbconvert_exporter": "python",
   "pygments_lexer": "ipython3",
   "version": "3.9.13"
  }
 },
 "nbformat": 4,
 "nbformat_minor": 5
}
