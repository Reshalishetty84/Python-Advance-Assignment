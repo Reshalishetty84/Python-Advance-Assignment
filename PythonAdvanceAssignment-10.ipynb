{
 "cells": [
  {
   "cell_type": "markdown",
   "id": "8d6902fd",
   "metadata": {},
   "source": [
    "1.What is the difference between __getattr__ and __getattribute__?\n",
    "\n",
    "a)__getattr__(self, name):\n",
    "\n",
    "This method is called when the requested attribute is not found through normal attribute lookup.\n",
    "It is invoked only when the attribute is not present in the object's dictionary or in its class hierarchy.\n",
    "This method takes two parameters: self (the instance) and name (the name of the attribute being accessed).\n",
    "It allows you to dynamically compute or provide a default value for the attribute that was not found.\n",
    "It should either return the value of the attribute or raise an AttributeError if the attribute is not found.\n",
    "\n",
    "b)__getattribute__(self, name):\n",
    "\n",
    "This method is called for every attribute access, regardless of whether the attribute is present or not.\n",
    "It is invoked before checking if the attribute exists in the object's dictionary or in its class hierarchy.\n",
    "This method takes two parameters: self (the instance) and name (the name of the attribute being accessed).\n",
    "It allows you to override the default attribute access behavior and perform custom actions or modifications.\n",
    "If you want to access the attribute within this method, you should use the base class's implementation to avoid infinite recursion.\n",
    "\n",
    "In summary, the main difference between __getattr__ and __getattribute__ is that __getattr__ is called only when the attribute is not found through regular attribute lookup, while __getattribute__ is called for every attribute access, regardless of whether the attribute exists or not."
   ]
  },
  {
   "cell_type": "markdown",
   "id": "2bc43d83",
   "metadata": {},
   "source": [
    "2.What is the difference between properties and descriptors?\n",
    "\n",
    "Properties:\n",
    "a)Properties are a Pythonic way of implementing computed attributes. They allow you to define special methods to control attribute access, such as getting, setting, and deleting values.\n",
    "\n",
    "b)Properties are accessed like regular attributes but provide custom behavior through getter, setter, and deleter methods.\n",
    "\n",
    "c)Properties are defined within a class using the @property decorator for the getter method. Optional setter and deleter methods can also be defined using @<property_name>.setter and @<property_name>.deleter decorators, respectively.\n",
    "\n",
    "d)Properties are bound to a specific instance of a class and are accessed as if they were regular attributes, abstracting away the actual implementation of the underlying getter, setter, and deleter methods.\n",
    "\n",
    "e)Properties provide a clean and intuitive syntax for attribute access and can be useful for implementing computed attributes, data validation, and encapsulation.\n",
    "\n",
    "Descriptors:\n",
    "a)Descriptors are a more low-level mechanism for controlling attribute access and are used to define how attributes are accessed, set, and deleted at the class level.\n",
    "\n",
    "b)Descriptors are implemented by defining a class with at least one of three special methods: __get__, __set__, or __delete__.\n",
    "\n",
    "c)Descriptors can be used as class attributes and control how instances of the class interact with the descriptor.\n",
    "\n",
    "d)When an attribute is accessed on an instance, if the attribute has a descriptor defined on the class, the descriptor's methods are called to handle the attribute access.\n",
    "\n",
    "e)Descriptors provide a powerful way to customize attribute access behavior, allowing for fine-grained control over how attributes are managed at the class level."
   ]
  },
  {
   "cell_type": "markdown",
   "id": "115e5212",
   "metadata": {},
   "source": [
    "3.What are the key differences in functionality between __getattr__ and __getattribute__, as well as properties and descriptors?\n",
    "\n",
    "__getattr__ vs. __getattribute__:\n",
    "\n",
    "a)__getattr__ is called only when the requested attribute is not found through normal attribute lookup. It provides a fallback mechanism for attribute access.\n",
    "\n",
    "b)__getattribute__ is called for every attribute access, regardless of whether the attribute exists or not. It allows you to override the default attribute access behavior.\n",
    "\n",
    "c)__getattr__ is typically used to provide default or computed attribute values when the attribute is not found.\n",
    "\n",
    "d)__getattribute__ is used to intercept and modify all attribute accesses, providing custom behavior for every attribute access.\n",
    "\n",
    "Properties vs. Descriptors:\n",
    "\n",
    "a)Properties are a high-level feature that allows you to define special methods (getter, setter, deleter) to control attribute access at the instance level.\n",
    "\n",
    "b)Properties are accessed like regular attributes, but the defined methods handle the actual attribute access behavior.\n",
    "\n",
    "c)Properties are typically used to provide computed attributes, encapsulation, and attribute validation.\n",
    "\n",
    "d)Descriptors, on the other hand, are a lower-level mechanism for controlling attribute access at the class level.\n",
    "\n",
    "e)Descriptors are defined by implementing the __get__, __set__, and/or __delete__ methods within a descriptor class.\n",
    "\n",
    "f)Descriptors can be used as class attributes and control how instances of the class interact with the descriptor.\n",
    "\n",
    "g)Descriptors provide a more granular control over attribute access, allowing you to define custom behavior at the class level for attribute access, setting, and deletion.\n",
    "\n",
    "h)Descriptors are more flexible and can be used for various purposes, such as implementing lazy attributes, type checking, or customizing attribute access."
   ]
  },
  {
   "cell_type": "code",
   "execution_count": null,
   "id": "28c20608",
   "metadata": {},
   "outputs": [],
   "source": []
  }
 ],
 "metadata": {
  "kernelspec": {
   "display_name": "Python 3 (ipykernel)",
   "language": "python",
   "name": "python3"
  },
  "language_info": {
   "codemirror_mode": {
    "name": "ipython",
    "version": 3
   },
   "file_extension": ".py",
   "mimetype": "text/x-python",
   "name": "python",
   "nbconvert_exporter": "python",
   "pygments_lexer": "ipython3",
   "version": "3.9.13"
  }
 },
 "nbformat": 4,
 "nbformat_minor": 5
}
