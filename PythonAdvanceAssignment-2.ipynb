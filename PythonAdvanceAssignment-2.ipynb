{
 "cells": [
  {
   "cell_type": "markdown",
   "id": "e5df6dc3",
   "metadata": {},
   "source": [
    "Q1.What is the relationship between classes and modules?\n",
    "\n",
    "Class:The concept of classe, which occurs in many programming languages, is fundamental to object-oriented programming and is easy to understand. Class is used to abstract the common characteristics of different objects, classify objects that are similar to each other into the same concept according to the similarity principle. Class encapsulates data and operations for future reuse.\n",
    "\n",
    "Module:In Python a .py file is considered as a module. After a script file is created, certain functions and variables are defined. You can reuse these functions and variables by importing the module in other files that require these functions or variables. The module name is the file name minus .py suffix.Modules can also be simply divided into built-in modules and custom modules. Built-in modules are built into Python, such as sys, os and other basic modules. Built-in function dir( module_name ) let you see what data the module defines (include variable name, module name, function name, etc.). dir() function will return all currently defined names when no arguments are present."
   ]
  },
  {
   "cell_type": "markdown",
   "id": "068b1f26",
   "metadata": {},
   "source": [
    "Q2. How do you make instances and classes?\n",
    "\n",
    "Classes:Class variables are declared inside a class but outside of any function. \n",
    "Instances:Instance variables are declared inside the constructor which is the __init__method.\n",
    "\n",
    "Example:\n",
    "class Book():\n",
    "\n",
    "fontsize = 9\n",
    "\n",
    "page_width = 15\n",
    "\n",
    "def __init__(self, name, writer, length):\n",
    "\n",
    "  self.name = name\n",
    "  \n",
    "  self.writer = writer\n",
    "  \n",
    "  self.length = length\n",
    "  \n",
    "The fontsize and page_width are class variables. Every book instance created will have a fontsize of 9 and page_width of 15 cm.\n",
    "The name, writer, and length variables are declared in the __init__ method so they are instance variables. The values of these variables are determined when creating an instance."
   ]
  },
  {
   "cell_type": "markdown",
   "id": "241af403",
   "metadata": {},
   "source": [
    "Q3. Where and how should be class attributes created?\n",
    "\n",
    "Class attributes belong to the class itself they will be shared by all the instances. Such attributes are defined in the class body parts usually at the top, for legibility.\n",
    "\n",
    "class sampleclass:\n",
    "\n",
    "    count = 0     # class attribute\n",
    "  \n",
    "    def increase(self):\n",
    "        sampleclass.count += 1\n",
    "  \n",
    "s1 = sampleclass()\n",
    "\n",
    "s1.increase()    \n",
    "\n",
    "print(s1.count)"
   ]
  },
  {
   "cell_type": "markdown",
   "id": "fe6b69b8",
   "metadata": {},
   "source": [
    "Q4. Where and how are instance attributes created?\n",
    "\n",
    "Unlike class attributes, instance attributes are not shared by objects. Every object has its own copy of the instance attribute (In case of class attributes all object refer to single copy).\n",
    "\n",
    "To list the attributes of an instance/object, we have two functions:-\n",
    "1.vars()– This function displays the attribute of an instance in the form of an dictionary.\n",
    "2.dir()– This function displays more attributes than vars function,as it is not limited to instance. It displays the class attributes as well. It also displays the attributes of its ancestor classes.\n",
    "\n",
    "class emp:\n",
    "\n",
    "    def __init__(self):\n",
    "    \n",
    "        self.name = 'xyz' # instance attribute\n",
    "        \n",
    "        self.salary = 4000 # instance attribute\n",
    "  \n",
    "    def show(self):\n",
    "    \n",
    "        print(self.name)\n",
    "        \n",
    "        print(self.salary)\n",
    "  \n",
    "e1 = emp()\n",
    "\n",
    "print(\"Dictionary form :\", vars(e1))\n",
    "\n",
    "print(dir(e1))"
   ]
  },
  {
   "cell_type": "markdown",
   "id": "2a9a780a",
   "metadata": {},
   "source": [
    "Q5. What does the term \"self\" in a Python class mean?\n",
    "\n",
    "self represents the instance of the class. By using the 'self'  we can access the attributes and methods of the class in python. It binds the attributes with the given arguments.\n",
    "The reason you need to use self is because Python does not use the @ syntax to refer to instance attributes.Self is always pointing to Current Object.\n",
    "\n",
    "class check:\n",
    "\n",
    "    def __init__(self):\n",
    "    \n",
    "        print(\"Address of self = \",id(self))\n",
    " \n",
    "obj = check()\n",
    "\n",
    "print(\"Address of class object = \",id(obj))"
   ]
  },
  {
   "cell_type": "markdown",
   "id": "ec8a408e",
   "metadata": {},
   "source": [
    "Q6. How does a Python class handle operator overloading?\n",
    "\n",
    "Python operators work for built-in classes. But the same operator behaves differently with different types. For example, the + operator will perform arithmetic addition on two numbers, merge two lists, or concatenate two strings.\n",
    "This feature in Python that allows the same operator to have different meaning according to the context is called operator overloading.Suppose the user has two objects which are the physical representation of a user-defined data type class. The user has to add two objects using the \"+\" operator, and it gives an error. This is because the compiler does not know how to add two objects. So, the user has to define the function for using the operator, and that process is known as \"operator overloading\". The user can overload all the existing operators by they cannot create any new operator. Python provides some special functions, or we can say magic functions for performing operator overloading, which is automatically invoked when it is associated with that operator. Such as, when the user uses the \"+\" operator, the magic function __add__ will automatically invoke in the command where the \"+\" operator will be defined."
   ]
  },
  {
   "cell_type": "markdown",
   "id": "a9de4188",
   "metadata": {},
   "source": [
    "Q7. When do you consider allowing operator overloading of your classes?\n",
    "\n",
    "Operator overloading is used when we need to specify more than one meaning for an operator in one scope. The purpose of operator overloading is to provide a special meaning of an operator for a user-defined data type."
   ]
  },
  {
   "cell_type": "markdown",
   "id": "b888ffdf",
   "metadata": {},
   "source": [
    "Q8. What is the most popular form of operator overloading?\n",
    "\n",
    "A very popular and convenient example is the Addition (+) operator.It performs “Addition” on numbers whereas it performs “Concatenation” on strings.Operators in Python work for built-in classes, like int, str, list, etc. But can extend their operability such that they work on objects of user-defined classes too."
   ]
  },
  {
   "cell_type": "markdown",
   "id": "7dd6a868",
   "metadata": {},
   "source": [
    "Q9. What are the two most important concepts to grasp in order to comprehend Python OOP code?\n",
    "\n",
    "The two most important concepts to grasp in order to comprehend Python OOP code are inheritance and polymorphism.\n",
    "Both inheritance and polymorphism are key ingredients for designing robust, flexible, and easy-to-maintain software. \n",
    "Inheritance:The child class copies the attributes (both data and procedural) from the parent class. This concept is called inheritance.\n",
    "\n",
    "Polymorphism:Although the name of the method is the same, it behaves differently for different type of objects. This is an example of polymorphism.Polymorphism allows for leveraging the same interface for different underlying operations."
   ]
  },
  {
   "cell_type": "code",
   "execution_count": null,
   "id": "d9b9d8ba",
   "metadata": {},
   "outputs": [],
   "source": []
  },
  {
   "cell_type": "code",
   "execution_count": null,
   "id": "5eefdf7a",
   "metadata": {},
   "outputs": [],
   "source": []
  },
  {
   "cell_type": "code",
   "execution_count": null,
   "id": "d6c2d74b",
   "metadata": {},
   "outputs": [],
   "source": []
  },
  {
   "cell_type": "code",
   "execution_count": null,
   "id": "648b5304",
   "metadata": {},
   "outputs": [],
   "source": []
  }
 ],
 "metadata": {
  "kernelspec": {
   "display_name": "Python 3 (ipykernel)",
   "language": "python",
   "name": "python3"
  },
  "language_info": {
   "codemirror_mode": {
    "name": "ipython",
    "version": 3
   },
   "file_extension": ".py",
   "mimetype": "text/x-python",
   "name": "python",
   "nbconvert_exporter": "python",
   "pygments_lexer": "ipython3",
   "version": "3.9.7"
  }
 },
 "nbformat": 4,
 "nbformat_minor": 5
}
